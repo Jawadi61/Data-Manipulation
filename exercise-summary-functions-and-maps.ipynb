{
 "cells": [
  {
   "cell_type": "markdown",
   "id": "6cfbb006",
   "metadata": {
    "papermill": {
     "duration": 0.00984,
     "end_time": "2022-10-02T07:14:31.838966",
     "exception": false,
     "start_time": "2022-10-02T07:14:31.829126",
     "status": "completed"
    },
    "tags": []
   },
   "source": [
    "**This notebook is an exercise in the [Pandas](https://www.kaggle.com/learn/pandas) course.  You can reference the tutorial at [this link](https://www.kaggle.com/residentmario/summary-functions-and-maps).**\n",
    "\n",
    "---\n"
   ]
  },
  {
   "cell_type": "markdown",
   "id": "32629c8e",
   "metadata": {
    "papermill": {
     "duration": 0.007906,
     "end_time": "2022-10-02T07:14:31.857316",
     "exception": false,
     "start_time": "2022-10-02T07:14:31.849410",
     "status": "completed"
    },
    "tags": []
   },
   "source": [
    "# Introduction\n",
    "\n",
    "Now you are ready to get a deeper understanding of your data.\n",
    "\n",
    "Run the following cell to load your data and some utility functions (including code to check your answers)."
   ]
  },
  {
   "cell_type": "code",
   "execution_count": 1,
   "id": "81c9bfaa",
   "metadata": {
    "execution": {
     "iopub.execute_input": "2022-10-02T07:14:31.879584Z",
     "iopub.status.busy": "2022-10-02T07:14:31.878549Z",
     "iopub.status.idle": "2022-10-02T07:14:39.327088Z",
     "shell.execute_reply": "2022-10-02T07:14:39.325644Z"
    },
    "papermill": {
     "duration": 7.464183,
     "end_time": "2022-10-02T07:14:39.329976",
     "exception": false,
     "start_time": "2022-10-02T07:14:31.865793",
     "status": "completed"
    },
    "tags": []
   },
   "outputs": [
    {
     "name": "stdout",
     "output_type": "stream",
     "text": [
      "Setup complete.\n"
     ]
    },
    {
     "data": {
      "text/html": [
       "<div>\n",
       "<style scoped>\n",
       "    .dataframe tbody tr th:only-of-type {\n",
       "        vertical-align: middle;\n",
       "    }\n",
       "\n",
       "    .dataframe tbody tr th {\n",
       "        vertical-align: top;\n",
       "    }\n",
       "\n",
       "    .dataframe thead th {\n",
       "        text-align: right;\n",
       "    }\n",
       "</style>\n",
       "<table border=\"1\" class=\"dataframe\">\n",
       "  <thead>\n",
       "    <tr style=\"text-align: right;\">\n",
       "      <th></th>\n",
       "      <th>country</th>\n",
       "      <th>description</th>\n",
       "      <th>designation</th>\n",
       "      <th>points</th>\n",
       "      <th>price</th>\n",
       "      <th>province</th>\n",
       "      <th>region_1</th>\n",
       "      <th>region_2</th>\n",
       "      <th>taster_name</th>\n",
       "      <th>taster_twitter_handle</th>\n",
       "      <th>title</th>\n",
       "      <th>variety</th>\n",
       "      <th>winery</th>\n",
       "    </tr>\n",
       "  </thead>\n",
       "  <tbody>\n",
       "    <tr>\n",
       "      <th>0</th>\n",
       "      <td>Italy</td>\n",
       "      <td>Aromas include tropical fruit, broom, brimston...</td>\n",
       "      <td>Vulkà Bianco</td>\n",
       "      <td>87</td>\n",
       "      <td>NaN</td>\n",
       "      <td>Sicily &amp; Sardinia</td>\n",
       "      <td>Etna</td>\n",
       "      <td>NaN</td>\n",
       "      <td>Kerin O’Keefe</td>\n",
       "      <td>@kerinokeefe</td>\n",
       "      <td>Nicosia 2013 Vulkà Bianco  (Etna)</td>\n",
       "      <td>White Blend</td>\n",
       "      <td>Nicosia</td>\n",
       "    </tr>\n",
       "    <tr>\n",
       "      <th>1</th>\n",
       "      <td>Portugal</td>\n",
       "      <td>This is ripe and fruity, a wine that is smooth...</td>\n",
       "      <td>Avidagos</td>\n",
       "      <td>87</td>\n",
       "      <td>15.0</td>\n",
       "      <td>Douro</td>\n",
       "      <td>NaN</td>\n",
       "      <td>NaN</td>\n",
       "      <td>Roger Voss</td>\n",
       "      <td>@vossroger</td>\n",
       "      <td>Quinta dos Avidagos 2011 Avidagos Red (Douro)</td>\n",
       "      <td>Portuguese Red</td>\n",
       "      <td>Quinta dos Avidagos</td>\n",
       "    </tr>\n",
       "    <tr>\n",
       "      <th>2</th>\n",
       "      <td>US</td>\n",
       "      <td>Tart and snappy, the flavors of lime flesh and...</td>\n",
       "      <td>NaN</td>\n",
       "      <td>87</td>\n",
       "      <td>14.0</td>\n",
       "      <td>Oregon</td>\n",
       "      <td>Willamette Valley</td>\n",
       "      <td>Willamette Valley</td>\n",
       "      <td>Paul Gregutt</td>\n",
       "      <td>@paulgwine</td>\n",
       "      <td>Rainstorm 2013 Pinot Gris (Willamette Valley)</td>\n",
       "      <td>Pinot Gris</td>\n",
       "      <td>Rainstorm</td>\n",
       "    </tr>\n",
       "    <tr>\n",
       "      <th>3</th>\n",
       "      <td>US</td>\n",
       "      <td>Pineapple rind, lemon pith and orange blossom ...</td>\n",
       "      <td>Reserve Late Harvest</td>\n",
       "      <td>87</td>\n",
       "      <td>13.0</td>\n",
       "      <td>Michigan</td>\n",
       "      <td>Lake Michigan Shore</td>\n",
       "      <td>NaN</td>\n",
       "      <td>Alexander Peartree</td>\n",
       "      <td>NaN</td>\n",
       "      <td>St. Julian 2013 Reserve Late Harvest Riesling ...</td>\n",
       "      <td>Riesling</td>\n",
       "      <td>St. Julian</td>\n",
       "    </tr>\n",
       "    <tr>\n",
       "      <th>4</th>\n",
       "      <td>US</td>\n",
       "      <td>Much like the regular bottling from 2012, this...</td>\n",
       "      <td>Vintner's Reserve Wild Child Block</td>\n",
       "      <td>87</td>\n",
       "      <td>65.0</td>\n",
       "      <td>Oregon</td>\n",
       "      <td>Willamette Valley</td>\n",
       "      <td>Willamette Valley</td>\n",
       "      <td>Paul Gregutt</td>\n",
       "      <td>@paulgwine</td>\n",
       "      <td>Sweet Cheeks 2012 Vintner's Reserve Wild Child...</td>\n",
       "      <td>Pinot Noir</td>\n",
       "      <td>Sweet Cheeks</td>\n",
       "    </tr>\n",
       "  </tbody>\n",
       "</table>\n",
       "</div>"
      ],
      "text/plain": [
       "    country                                        description  \\\n",
       "0     Italy  Aromas include tropical fruit, broom, brimston...   \n",
       "1  Portugal  This is ripe and fruity, a wine that is smooth...   \n",
       "2        US  Tart and snappy, the flavors of lime flesh and...   \n",
       "3        US  Pineapple rind, lemon pith and orange blossom ...   \n",
       "4        US  Much like the regular bottling from 2012, this...   \n",
       "\n",
       "                          designation  points  price           province  \\\n",
       "0                        Vulkà Bianco      87    NaN  Sicily & Sardinia   \n",
       "1                            Avidagos      87   15.0              Douro   \n",
       "2                                 NaN      87   14.0             Oregon   \n",
       "3                Reserve Late Harvest      87   13.0           Michigan   \n",
       "4  Vintner's Reserve Wild Child Block      87   65.0             Oregon   \n",
       "\n",
       "              region_1           region_2         taster_name  \\\n",
       "0                 Etna                NaN       Kerin O’Keefe   \n",
       "1                  NaN                NaN          Roger Voss   \n",
       "2    Willamette Valley  Willamette Valley        Paul Gregutt   \n",
       "3  Lake Michigan Shore                NaN  Alexander Peartree   \n",
       "4    Willamette Valley  Willamette Valley        Paul Gregutt   \n",
       "\n",
       "  taster_twitter_handle                                              title  \\\n",
       "0          @kerinokeefe                  Nicosia 2013 Vulkà Bianco  (Etna)   \n",
       "1            @vossroger      Quinta dos Avidagos 2011 Avidagos Red (Douro)   \n",
       "2           @paulgwine       Rainstorm 2013 Pinot Gris (Willamette Valley)   \n",
       "3                   NaN  St. Julian 2013 Reserve Late Harvest Riesling ...   \n",
       "4           @paulgwine   Sweet Cheeks 2012 Vintner's Reserve Wild Child...   \n",
       "\n",
       "          variety               winery  \n",
       "0     White Blend              Nicosia  \n",
       "1  Portuguese Red  Quinta dos Avidagos  \n",
       "2      Pinot Gris            Rainstorm  \n",
       "3        Riesling           St. Julian  \n",
       "4      Pinot Noir         Sweet Cheeks  "
      ]
     },
     "execution_count": 1,
     "metadata": {},
     "output_type": "execute_result"
    }
   ],
   "source": [
    "import pandas as pd\n",
    "pd.set_option(\"display.max_rows\", 5)\n",
    "reviews = pd.read_csv(\"../input/wine-reviews/winemag-data-130k-v2.csv\", index_col=0)\n",
    "\n",
    "from learntools.core import binder; binder.bind(globals())\n",
    "from learntools.pandas.summary_functions_and_maps import *\n",
    "print(\"Setup complete.\")\n",
    "\n",
    "reviews.head()"
   ]
  },
  {
   "cell_type": "markdown",
   "id": "9217f804",
   "metadata": {
    "papermill": {
     "duration": 0.00628,
     "end_time": "2022-10-02T07:14:39.343332",
     "exception": false,
     "start_time": "2022-10-02T07:14:39.337052",
     "status": "completed"
    },
    "tags": []
   },
   "source": [
    "# Exercises"
   ]
  },
  {
   "cell_type": "markdown",
   "id": "d1b0b7e8",
   "metadata": {
    "papermill": {
     "duration": 0.006165,
     "end_time": "2022-10-02T07:14:39.356154",
     "exception": false,
     "start_time": "2022-10-02T07:14:39.349989",
     "status": "completed"
    },
    "tags": []
   },
   "source": [
    "## 1.\n",
    "\n",
    "What is the median of the `points` column in the `reviews` DataFrame?"
   ]
  },
  {
   "cell_type": "code",
   "execution_count": 2,
   "id": "3febecf3",
   "metadata": {
    "execution": {
     "iopub.execute_input": "2022-10-02T07:14:39.371434Z",
     "iopub.status.busy": "2022-10-02T07:14:39.370941Z",
     "iopub.status.idle": "2022-10-02T07:14:39.384429Z",
     "shell.execute_reply": "2022-10-02T07:14:39.383066Z"
    },
    "papermill": {
     "duration": 0.023863,
     "end_time": "2022-10-02T07:14:39.386854",
     "exception": false,
     "start_time": "2022-10-02T07:14:39.362991",
     "status": "completed"
    },
    "tags": []
   },
   "outputs": [
    {
     "data": {
      "application/javascript": [
       "parent.postMessage({\"jupyterEvent\": \"custom.exercise_interaction\", \"data\": {\"outcomeType\": 1, \"valueTowardsCompletion\": 0.14285714285714285, \"interactionType\": 1, \"questionType\": 1, \"questionId\": \"1_MedianPoints\", \"learnToolsVersion\": \"0.3.4\", \"failureMessage\": \"\", \"exceptionClass\": \"\", \"trace\": \"\"}}, \"*\")"
      ],
      "text/plain": [
       "<IPython.core.display.Javascript object>"
      ]
     },
     "metadata": {},
     "output_type": "display_data"
    },
    {
     "data": {
      "text/markdown": [
       "<span style=\"color:#33cc33\">Correct</span>"
      ],
      "text/plain": [
       "Correct"
      ]
     },
     "metadata": {},
     "output_type": "display_data"
    }
   ],
   "source": [
    "median_points = reviews.points.median()\n",
    "\n",
    "# Check your answer\n",
    "q1.check()"
   ]
  },
  {
   "cell_type": "code",
   "execution_count": 3,
   "id": "3a6da037",
   "metadata": {
    "execution": {
     "iopub.execute_input": "2022-10-02T07:14:39.402196Z",
     "iopub.status.busy": "2022-10-02T07:14:39.401741Z",
     "iopub.status.idle": "2022-10-02T07:14:39.406893Z",
     "shell.execute_reply": "2022-10-02T07:14:39.405716Z"
    },
    "papermill": {
     "duration": 0.015323,
     "end_time": "2022-10-02T07:14:39.409178",
     "exception": false,
     "start_time": "2022-10-02T07:14:39.393855",
     "status": "completed"
    },
    "tags": []
   },
   "outputs": [],
   "source": [
    "#q1.hint()\n",
    "#q1.solution()"
   ]
  },
  {
   "cell_type": "markdown",
   "id": "49a43565",
   "metadata": {
    "papermill": {
     "duration": 0.00656,
     "end_time": "2022-10-02T07:14:39.422567",
     "exception": false,
     "start_time": "2022-10-02T07:14:39.416007",
     "status": "completed"
    },
    "tags": []
   },
   "source": [
    "## 2. \n",
    "What countries are represented in the dataset? (Your answer should not include any duplicates.)"
   ]
  },
  {
   "cell_type": "code",
   "execution_count": 4,
   "id": "40847886",
   "metadata": {
    "execution": {
     "iopub.execute_input": "2022-10-02T07:14:39.437809Z",
     "iopub.status.busy": "2022-10-02T07:14:39.437351Z",
     "iopub.status.idle": "2022-10-02T07:14:39.454389Z",
     "shell.execute_reply": "2022-10-02T07:14:39.453509Z"
    },
    "papermill": {
     "duration": 0.027064,
     "end_time": "2022-10-02T07:14:39.456429",
     "exception": false,
     "start_time": "2022-10-02T07:14:39.429365",
     "status": "completed"
    },
    "tags": []
   },
   "outputs": [
    {
     "data": {
      "application/javascript": [
       "parent.postMessage({\"jupyterEvent\": \"custom.exercise_interaction\", \"data\": {\"outcomeType\": 1, \"valueTowardsCompletion\": 0.14285714285714285, \"interactionType\": 1, \"questionType\": 2, \"questionId\": \"2_UniqueCountries\", \"learnToolsVersion\": \"0.3.4\", \"failureMessage\": \"\", \"exceptionClass\": \"\", \"trace\": \"\"}}, \"*\")"
      ],
      "text/plain": [
       "<IPython.core.display.Javascript object>"
      ]
     },
     "metadata": {},
     "output_type": "display_data"
    },
    {
     "data": {
      "text/markdown": [
       "<span style=\"color:#33cc33\">Correct</span>"
      ],
      "text/plain": [
       "Correct"
      ]
     },
     "metadata": {},
     "output_type": "display_data"
    }
   ],
   "source": [
    "countries = reviews.country.unique()\n",
    "\n",
    "# Check your answer\n",
    "q2.check()"
   ]
  },
  {
   "cell_type": "code",
   "execution_count": 5,
   "id": "0503cf40",
   "metadata": {
    "execution": {
     "iopub.execute_input": "2022-10-02T07:14:39.471933Z",
     "iopub.status.busy": "2022-10-02T07:14:39.471549Z",
     "iopub.status.idle": "2022-10-02T07:14:39.475530Z",
     "shell.execute_reply": "2022-10-02T07:14:39.474442Z"
    },
    "papermill": {
     "duration": 0.014554,
     "end_time": "2022-10-02T07:14:39.477875",
     "exception": false,
     "start_time": "2022-10-02T07:14:39.463321",
     "status": "completed"
    },
    "tags": []
   },
   "outputs": [],
   "source": [
    "#q2.hint()\n",
    "#q2.solution()"
   ]
  },
  {
   "cell_type": "markdown",
   "id": "1b51d914",
   "metadata": {
    "papermill": {
     "duration": 0.00657,
     "end_time": "2022-10-02T07:14:39.491369",
     "exception": false,
     "start_time": "2022-10-02T07:14:39.484799",
     "status": "completed"
    },
    "tags": []
   },
   "source": [
    "## 3.\n",
    "How often does each country appear in the dataset? Create a Series `reviews_per_country` mapping countries to the count of reviews of wines from that country."
   ]
  },
  {
   "cell_type": "code",
   "execution_count": 6,
   "id": "611d3fbb",
   "metadata": {
    "execution": {
     "iopub.execute_input": "2022-10-02T07:14:39.508444Z",
     "iopub.status.busy": "2022-10-02T07:14:39.508002Z",
     "iopub.status.idle": "2022-10-02T07:14:39.525330Z",
     "shell.execute_reply": "2022-10-02T07:14:39.523894Z"
    },
    "papermill": {
     "duration": 0.028491,
     "end_time": "2022-10-02T07:14:39.527776",
     "exception": false,
     "start_time": "2022-10-02T07:14:39.499285",
     "status": "completed"
    },
    "tags": []
   },
   "outputs": [
    {
     "data": {
      "application/javascript": [
       "parent.postMessage({\"jupyterEvent\": \"custom.exercise_interaction\", \"data\": {\"outcomeType\": 1, \"valueTowardsCompletion\": 0.14285714285714285, \"interactionType\": 1, \"questionType\": 1, \"questionId\": \"3_ReviewsPerCountry\", \"learnToolsVersion\": \"0.3.4\", \"failureMessage\": \"\", \"exceptionClass\": \"\", \"trace\": \"\"}}, \"*\")"
      ],
      "text/plain": [
       "<IPython.core.display.Javascript object>"
      ]
     },
     "metadata": {},
     "output_type": "display_data"
    },
    {
     "data": {
      "text/markdown": [
       "<span style=\"color:#33cc33\">Correct</span>"
      ],
      "text/plain": [
       "Correct"
      ]
     },
     "metadata": {},
     "output_type": "display_data"
    }
   ],
   "source": [
    "reviews_per_country = reviews.country.value_counts()\n",
    "\n",
    "# Check your answer\n",
    "q3.check()"
   ]
  },
  {
   "cell_type": "code",
   "execution_count": 7,
   "id": "0ad4c0c9",
   "metadata": {
    "execution": {
     "iopub.execute_input": "2022-10-02T07:14:39.543760Z",
     "iopub.status.busy": "2022-10-02T07:14:39.543368Z",
     "iopub.status.idle": "2022-10-02T07:14:39.548106Z",
     "shell.execute_reply": "2022-10-02T07:14:39.546816Z"
    },
    "papermill": {
     "duration": 0.015537,
     "end_time": "2022-10-02T07:14:39.550584",
     "exception": false,
     "start_time": "2022-10-02T07:14:39.535047",
     "status": "completed"
    },
    "tags": []
   },
   "outputs": [],
   "source": [
    "#q3.hint()\n",
    "#q3.solution()"
   ]
  },
  {
   "cell_type": "markdown",
   "id": "f88ca9a3",
   "metadata": {
    "papermill": {
     "duration": 0.006925,
     "end_time": "2022-10-02T07:14:39.564765",
     "exception": false,
     "start_time": "2022-10-02T07:14:39.557840",
     "status": "completed"
    },
    "tags": []
   },
   "source": [
    "## 4.\n",
    "Create variable `centered_price` containing a version of the `price` column with the mean price subtracted.\n",
    "\n",
    "(Note: this 'centering' transformation is a common preprocessing step before applying various machine learning algorithms.) "
   ]
  },
  {
   "cell_type": "code",
   "execution_count": 8,
   "id": "ff2c7706",
   "metadata": {
    "execution": {
     "iopub.execute_input": "2022-10-02T07:14:39.580625Z",
     "iopub.status.busy": "2022-10-02T07:14:39.580200Z",
     "iopub.status.idle": "2022-10-02T07:14:39.591533Z",
     "shell.execute_reply": "2022-10-02T07:14:39.590387Z"
    },
    "papermill": {
     "duration": 0.02209,
     "end_time": "2022-10-02T07:14:39.593982",
     "exception": false,
     "start_time": "2022-10-02T07:14:39.571892",
     "status": "completed"
    },
    "tags": []
   },
   "outputs": [
    {
     "data": {
      "application/javascript": [
       "parent.postMessage({\"jupyterEvent\": \"custom.exercise_interaction\", \"data\": {\"outcomeType\": 1, \"valueTowardsCompletion\": 0.14285714285714285, \"interactionType\": 1, \"questionType\": 1, \"questionId\": \"4_CenteredPrice\", \"learnToolsVersion\": \"0.3.4\", \"failureMessage\": \"\", \"exceptionClass\": \"\", \"trace\": \"\"}}, \"*\")"
      ],
      "text/plain": [
       "<IPython.core.display.Javascript object>"
      ]
     },
     "metadata": {},
     "output_type": "display_data"
    },
    {
     "data": {
      "text/markdown": [
       "<span style=\"color:#33cc33\">Correct</span>"
      ],
      "text/plain": [
       "Correct"
      ]
     },
     "metadata": {},
     "output_type": "display_data"
    }
   ],
   "source": [
    "centered_price = reviews.price - reviews.price.mean()\n",
    "\n",
    "# Check your answer\n",
    "q4.check()"
   ]
  },
  {
   "cell_type": "code",
   "execution_count": 9,
   "id": "914861eb",
   "metadata": {
    "execution": {
     "iopub.execute_input": "2022-10-02T07:14:39.610484Z",
     "iopub.status.busy": "2022-10-02T07:14:39.610100Z",
     "iopub.status.idle": "2022-10-02T07:14:39.614632Z",
     "shell.execute_reply": "2022-10-02T07:14:39.613560Z"
    },
    "papermill": {
     "duration": 0.015421,
     "end_time": "2022-10-02T07:14:39.616842",
     "exception": false,
     "start_time": "2022-10-02T07:14:39.601421",
     "status": "completed"
    },
    "tags": []
   },
   "outputs": [],
   "source": [
    "#q4.hint()\n",
    "#q4.solution()"
   ]
  },
  {
   "cell_type": "markdown",
   "id": "cf1a4c46",
   "metadata": {
    "papermill": {
     "duration": 0.007184,
     "end_time": "2022-10-02T07:14:39.631826",
     "exception": false,
     "start_time": "2022-10-02T07:14:39.624642",
     "status": "completed"
    },
    "tags": []
   },
   "source": [
    "## 5.\n",
    "I'm an economical wine buyer. Which wine is the \"best bargain\"? Create a variable `bargain_wine` with the title of the wine with the highest points-to-price ratio in the dataset."
   ]
  },
  {
   "cell_type": "code",
   "execution_count": 10,
   "id": "09b3677b",
   "metadata": {
    "execution": {
     "iopub.execute_input": "2022-10-02T07:14:39.648760Z",
     "iopub.status.busy": "2022-10-02T07:14:39.647957Z",
     "iopub.status.idle": "2022-10-02T07:14:39.661739Z",
     "shell.execute_reply": "2022-10-02T07:14:39.660795Z"
    },
    "papermill": {
     "duration": 0.024783,
     "end_time": "2022-10-02T07:14:39.664079",
     "exception": false,
     "start_time": "2022-10-02T07:14:39.639296",
     "status": "completed"
    },
    "tags": []
   },
   "outputs": [
    {
     "data": {
      "application/javascript": [
       "parent.postMessage({\"jupyterEvent\": \"custom.exercise_interaction\", \"data\": {\"outcomeType\": 1, \"valueTowardsCompletion\": 0.14285714285714285, \"interactionType\": 1, \"questionType\": 2, \"questionId\": \"5_BargainWine\", \"learnToolsVersion\": \"0.3.4\", \"failureMessage\": \"\", \"exceptionClass\": \"\", \"trace\": \"\"}}, \"*\")"
      ],
      "text/plain": [
       "<IPython.core.display.Javascript object>"
      ]
     },
     "metadata": {},
     "output_type": "display_data"
    },
    {
     "data": {
      "text/markdown": [
       "<span style=\"color:#33cc33\">Correct</span>"
      ],
      "text/plain": [
       "Correct"
      ]
     },
     "metadata": {},
     "output_type": "display_data"
    }
   ],
   "source": [
    "bargain_idx = (reviews.points / reviews.price).idxmax()\n",
    "bargain_wine = reviews.loc[bargain_idx, 'title']\n",
    "\n",
    "\n",
    "# Check your answer\n",
    "q5.check()"
   ]
  },
  {
   "cell_type": "code",
   "execution_count": 11,
   "id": "a4ca9560",
   "metadata": {
    "execution": {
     "iopub.execute_input": "2022-10-02T07:14:39.681725Z",
     "iopub.status.busy": "2022-10-02T07:14:39.680971Z",
     "iopub.status.idle": "2022-10-02T07:14:39.686566Z",
     "shell.execute_reply": "2022-10-02T07:14:39.685189Z"
    },
    "papermill": {
     "duration": 0.017083,
     "end_time": "2022-10-02T07:14:39.688896",
     "exception": false,
     "start_time": "2022-10-02T07:14:39.671813",
     "status": "completed"
    },
    "tags": []
   },
   "outputs": [],
   "source": [
    "#q5.hint()\n",
    "#q5.solution()"
   ]
  },
  {
   "cell_type": "markdown",
   "id": "8f4a8839",
   "metadata": {
    "papermill": {
     "duration": 0.007433,
     "end_time": "2022-10-02T07:14:39.704162",
     "exception": false,
     "start_time": "2022-10-02T07:14:39.696729",
     "status": "completed"
    },
    "tags": []
   },
   "source": [
    "## 6.\n",
    "There are only so many words you can use when describing a bottle of wine. Is a wine more likely to be \"tropical\" or \"fruity\"? Create a Series `descriptor_counts` counting how many times each of these two words appears in the `description` column in the dataset. (For simplicity, let's ignore the capitalized versions of these words.)"
   ]
  },
  {
   "cell_type": "code",
   "execution_count": 12,
   "id": "69fe7aa2",
   "metadata": {
    "execution": {
     "iopub.execute_input": "2022-10-02T07:14:39.721455Z",
     "iopub.status.busy": "2022-10-02T07:14:39.720927Z",
     "iopub.status.idle": "2022-10-02T07:14:39.868464Z",
     "shell.execute_reply": "2022-10-02T07:14:39.867147Z"
    },
    "papermill": {
     "duration": 0.159249,
     "end_time": "2022-10-02T07:14:39.871083",
     "exception": false,
     "start_time": "2022-10-02T07:14:39.711834",
     "status": "completed"
    },
    "tags": []
   },
   "outputs": [
    {
     "data": {
      "application/javascript": [
       "parent.postMessage({\"jupyterEvent\": \"custom.exercise_interaction\", \"data\": {\"outcomeType\": 1, \"valueTowardsCompletion\": 0.14285714285714285, \"interactionType\": 1, \"questionType\": 1, \"questionId\": \"6_DescriptorCounts\", \"learnToolsVersion\": \"0.3.4\", \"failureMessage\": \"\", \"exceptionClass\": \"\", \"trace\": \"\"}}, \"*\")"
      ],
      "text/plain": [
       "<IPython.core.display.Javascript object>"
      ]
     },
     "metadata": {},
     "output_type": "display_data"
    },
    {
     "data": {
      "text/markdown": [
       "<span style=\"color:#33cc33\">Correct</span>"
      ],
      "text/plain": [
       "Correct"
      ]
     },
     "metadata": {},
     "output_type": "display_data"
    }
   ],
   "source": [
    "n_trop = reviews.description.map(lambda desc: \"tropical\" in desc).sum()\n",
    "n_fruity = reviews.description.map(lambda desc: \"fruity\" in desc).sum()\n",
    "descriptor_counts = pd.Series([n_trop, n_fruity], index=['tropical', 'fruity'])\n",
    "\n",
    "# Check your answer\n",
    "q6.check()"
   ]
  },
  {
   "cell_type": "code",
   "execution_count": 13,
   "id": "ffe40310",
   "metadata": {
    "execution": {
     "iopub.execute_input": "2022-10-02T07:14:39.889485Z",
     "iopub.status.busy": "2022-10-02T07:14:39.889060Z",
     "iopub.status.idle": "2022-10-02T07:14:39.893666Z",
     "shell.execute_reply": "2022-10-02T07:14:39.892498Z"
    },
    "papermill": {
     "duration": 0.016915,
     "end_time": "2022-10-02T07:14:39.896234",
     "exception": false,
     "start_time": "2022-10-02T07:14:39.879319",
     "status": "completed"
    },
    "tags": []
   },
   "outputs": [],
   "source": [
    "#q6.hint()\n",
    "#q6.solution()"
   ]
  },
  {
   "cell_type": "markdown",
   "id": "c8b19914",
   "metadata": {
    "papermill": {
     "duration": 0.00823,
     "end_time": "2022-10-02T07:14:39.912414",
     "exception": false,
     "start_time": "2022-10-02T07:14:39.904184",
     "status": "completed"
    },
    "tags": []
   },
   "source": [
    "## 7.\n",
    "We'd like to host these wine reviews on our website, but a rating system ranging from 80 to 100 points is too hard to understand - we'd like to translate them into simple star ratings. A score of 95 or higher counts as 3 stars, a score of at least 85 but less than 95 is 2 stars. Any other score is 1 star.\n",
    "\n",
    "Also, the Canadian Vintners Association bought a lot of ads on the site, so any wines from Canada should automatically get 3 stars, regardless of points.\n",
    "\n",
    "Create a series `star_ratings` with the number of stars corresponding to each review in the dataset."
   ]
  },
  {
   "cell_type": "code",
   "execution_count": 14,
   "id": "f9572776",
   "metadata": {
    "execution": {
     "iopub.execute_input": "2022-10-02T07:14:39.931104Z",
     "iopub.status.busy": "2022-10-02T07:14:39.930280Z",
     "iopub.status.idle": "2022-10-02T07:14:44.089291Z",
     "shell.execute_reply": "2022-10-02T07:14:44.088083Z"
    },
    "papermill": {
     "duration": 4.17118,
     "end_time": "2022-10-02T07:14:44.092041",
     "exception": false,
     "start_time": "2022-10-02T07:14:39.920861",
     "status": "completed"
    },
    "tags": []
   },
   "outputs": [
    {
     "data": {
      "application/javascript": [
       "parent.postMessage({\"jupyterEvent\": \"custom.exercise_interaction\", \"data\": {\"outcomeType\": 1, \"valueTowardsCompletion\": 0.14285714285714285, \"interactionType\": 1, \"questionType\": 1, \"questionId\": \"7_StarRatings\", \"learnToolsVersion\": \"0.3.4\", \"failureMessage\": \"\", \"exceptionClass\": \"\", \"trace\": \"\"}}, \"*\")"
      ],
      "text/plain": [
       "<IPython.core.display.Javascript object>"
      ]
     },
     "metadata": {},
     "output_type": "display_data"
    },
    {
     "data": {
      "text/markdown": [
       "<span style=\"color:#33cc33\">Correct</span>"
      ],
      "text/plain": [
       "Correct"
      ]
     },
     "metadata": {},
     "output_type": "display_data"
    }
   ],
   "source": [
    "def stars(row):\n",
    "    if row.country == 'Canada':\n",
    "        return 3\n",
    "    elif row.points >= 95:\n",
    "        return 3\n",
    "    elif row.points >= 85:\n",
    "        return 2\n",
    "    else:\n",
    "        return 1\n",
    "\n",
    "star_ratings = reviews.apply(stars, axis='columns')\n",
    "\n",
    "# Check your answer\n",
    "q7.check()"
   ]
  },
  {
   "cell_type": "code",
   "execution_count": 15,
   "id": "a10a2b50",
   "metadata": {
    "execution": {
     "iopub.execute_input": "2022-10-02T07:14:44.110744Z",
     "iopub.status.busy": "2022-10-02T07:14:44.110350Z",
     "iopub.status.idle": "2022-10-02T07:14:44.114988Z",
     "shell.execute_reply": "2022-10-02T07:14:44.113786Z"
    },
    "papermill": {
     "duration": 0.016768,
     "end_time": "2022-10-02T07:14:44.117289",
     "exception": false,
     "start_time": "2022-10-02T07:14:44.100521",
     "status": "completed"
    },
    "tags": []
   },
   "outputs": [],
   "source": [
    "#q7.hint()\n",
    "#q7.solution()"
   ]
  },
  {
   "cell_type": "markdown",
   "id": "d8fc50d0",
   "metadata": {
    "papermill": {
     "duration": 0.007834,
     "end_time": "2022-10-02T07:14:44.133464",
     "exception": false,
     "start_time": "2022-10-02T07:14:44.125630",
     "status": "completed"
    },
    "tags": []
   },
   "source": [
    "# Keep going\n",
    "Continue to **[grouping and sorting](https://www.kaggle.com/residentmario/grouping-and-sorting)**."
   ]
  },
  {
   "cell_type": "markdown",
   "id": "fe9254e8",
   "metadata": {
    "papermill": {
     "duration": 0.008137,
     "end_time": "2022-10-02T07:14:44.149773",
     "exception": false,
     "start_time": "2022-10-02T07:14:44.141636",
     "status": "completed"
    },
    "tags": []
   },
   "source": [
    "---\n",
    "\n",
    "\n",
    "\n",
    "\n",
    "*Have questions or comments? Visit the [course discussion forum](https://www.kaggle.com/learn/pandas/discussion) to chat with other learners.*"
   ]
  }
 ],
 "metadata": {
  "kernelspec": {
   "display_name": "Python 3",
   "language": "python",
   "name": "python3"
  },
  "language_info": {
   "codemirror_mode": {
    "name": "ipython",
    "version": 3
   },
   "file_extension": ".py",
   "mimetype": "text/x-python",
   "name": "python",
   "nbconvert_exporter": "python",
   "pygments_lexer": "ipython3",
   "version": "3.7.12"
  },
  "papermill": {
   "default_parameters": {},
   "duration": 22.498705,
   "end_time": "2022-10-02T07:14:44.880264",
   "environment_variables": {},
   "exception": null,
   "input_path": "__notebook__.ipynb",
   "output_path": "__notebook__.ipynb",
   "parameters": {},
   "start_time": "2022-10-02T07:14:22.381559",
   "version": "2.3.4"
  }
 },
 "nbformat": 4,
 "nbformat_minor": 5
}
