{
 "cells": [
  {
   "cell_type": "markdown",
   "id": "1f245043",
   "metadata": {
    "papermill": {
     "duration": 0.005647,
     "end_time": "2022-10-02T12:35:26.172381",
     "exception": false,
     "start_time": "2022-10-02T12:35:26.166734",
     "status": "completed"
    },
    "tags": []
   },
   "source": [
    "**This notebook is an exercise in the [Pandas](https://www.kaggle.com/learn/pandas) course.  You can reference the tutorial at [this link](https://www.kaggle.com/residentmario/data-types-and-missing-values).**\n",
    "\n",
    "---\n"
   ]
  },
  {
   "cell_type": "markdown",
   "id": "29891eb3",
   "metadata": {
    "papermill": {
     "duration": 0.003815,
     "end_time": "2022-10-02T12:35:26.180550",
     "exception": false,
     "start_time": "2022-10-02T12:35:26.176735",
     "status": "completed"
    },
    "tags": []
   },
   "source": [
    "# Introduction\n",
    "\n",
    "Run the following cell to load your data and some utility functions."
   ]
  },
  {
   "cell_type": "code",
   "execution_count": 1,
   "id": "4dd33da3",
   "metadata": {
    "execution": {
     "iopub.execute_input": "2022-10-02T12:35:26.190564Z",
     "iopub.status.busy": "2022-10-02T12:35:26.190124Z",
     "iopub.status.idle": "2022-10-02T12:35:29.230191Z",
     "shell.execute_reply": "2022-10-02T12:35:29.228942Z"
    },
    "papermill": {
     "duration": 3.049374,
     "end_time": "2022-10-02T12:35:29.234107",
     "exception": false,
     "start_time": "2022-10-02T12:35:26.184733",
     "status": "completed"
    },
    "tags": []
   },
   "outputs": [
    {
     "name": "stdout",
     "output_type": "stream",
     "text": [
      "Setup complete.\n"
     ]
    }
   ],
   "source": [
    "import pandas as pd\n",
    "\n",
    "reviews = pd.read_csv(\"../input/wine-reviews/winemag-data-130k-v2.csv\", index_col=0)\n",
    "\n",
    "from learntools.core import binder; binder.bind(globals())\n",
    "from learntools.pandas.data_types_and_missing_data import *\n",
    "print(\"Setup complete.\")"
   ]
  },
  {
   "cell_type": "markdown",
   "id": "b12a7bf7",
   "metadata": {
    "papermill": {
     "duration": 0.004315,
     "end_time": "2022-10-02T12:35:29.243807",
     "exception": false,
     "start_time": "2022-10-02T12:35:29.239492",
     "status": "completed"
    },
    "tags": []
   },
   "source": [
    "# Exercises"
   ]
  },
  {
   "cell_type": "markdown",
   "id": "d8a1addb",
   "metadata": {
    "papermill": {
     "duration": 0.003967,
     "end_time": "2022-10-02T12:35:29.252209",
     "exception": false,
     "start_time": "2022-10-02T12:35:29.248242",
     "status": "completed"
    },
    "tags": []
   },
   "source": [
    "## 1. \n",
    "What is the data type of the `points` column in the dataset?"
   ]
  },
  {
   "cell_type": "code",
   "execution_count": 2,
   "id": "e4ddb066",
   "metadata": {
    "execution": {
     "iopub.execute_input": "2022-10-02T12:35:29.262873Z",
     "iopub.status.busy": "2022-10-02T12:35:29.261936Z",
     "iopub.status.idle": "2022-10-02T12:35:29.274386Z",
     "shell.execute_reply": "2022-10-02T12:35:29.273136Z"
    },
    "papermill": {
     "duration": 0.020301,
     "end_time": "2022-10-02T12:35:29.276731",
     "exception": false,
     "start_time": "2022-10-02T12:35:29.256430",
     "status": "completed"
    },
    "tags": []
   },
   "outputs": [
    {
     "data": {
      "application/javascript": [
       "parent.postMessage({\"jupyterEvent\": \"custom.exercise_interaction\", \"data\": {\"outcomeType\": 1, \"valueTowardsCompletion\": 0.25, \"interactionType\": 1, \"questionType\": 1, \"questionId\": \"1_PointsDtype\", \"learnToolsVersion\": \"0.3.4\", \"failureMessage\": \"\", \"exceptionClass\": \"\", \"trace\": \"\"}}, \"*\")"
      ],
      "text/plain": [
       "<IPython.core.display.Javascript object>"
      ]
     },
     "metadata": {},
     "output_type": "display_data"
    },
    {
     "data": {
      "text/markdown": [
       "<span style=\"color:#33cc33\">Correct</span>"
      ],
      "text/plain": [
       "Correct"
      ]
     },
     "metadata": {},
     "output_type": "display_data"
    }
   ],
   "source": [
    "# Your code here\n",
    "dtype = reviews.points.dtype\n",
    "\n",
    "# Check your answer\n",
    "q1.check()"
   ]
  },
  {
   "cell_type": "code",
   "execution_count": 3,
   "id": "dd8457d0",
   "metadata": {
    "execution": {
     "iopub.execute_input": "2022-10-02T12:35:29.287341Z",
     "iopub.status.busy": "2022-10-02T12:35:29.286914Z",
     "iopub.status.idle": "2022-10-02T12:35:29.291399Z",
     "shell.execute_reply": "2022-10-02T12:35:29.290363Z"
    },
    "papermill": {
     "duration": 0.01236,
     "end_time": "2022-10-02T12:35:29.293634",
     "exception": false,
     "start_time": "2022-10-02T12:35:29.281274",
     "status": "completed"
    },
    "tags": []
   },
   "outputs": [],
   "source": [
    "#q1.hint()\n",
    "#q1.solution()"
   ]
  },
  {
   "cell_type": "markdown",
   "id": "3a0ff0d3",
   "metadata": {
    "papermill": {
     "duration": 0.004314,
     "end_time": "2022-10-02T12:35:29.302567",
     "exception": false,
     "start_time": "2022-10-02T12:35:29.298253",
     "status": "completed"
    },
    "tags": []
   },
   "source": [
    "## 2. \n",
    "Create a Series from entries in the `points` column, but convert the entries to strings. Hint: strings are `str` in native Python."
   ]
  },
  {
   "cell_type": "code",
   "execution_count": 4,
   "id": "56995330",
   "metadata": {
    "execution": {
     "iopub.execute_input": "2022-10-02T12:35:29.313350Z",
     "iopub.status.busy": "2022-10-02T12:35:29.312937Z",
     "iopub.status.idle": "2022-10-02T12:35:29.404460Z",
     "shell.execute_reply": "2022-10-02T12:35:29.403150Z"
    },
    "papermill": {
     "duration": 0.099939,
     "end_time": "2022-10-02T12:35:29.407016",
     "exception": false,
     "start_time": "2022-10-02T12:35:29.307077",
     "status": "completed"
    },
    "tags": []
   },
   "outputs": [
    {
     "data": {
      "application/javascript": [
       "parent.postMessage({\"jupyterEvent\": \"custom.exercise_interaction\", \"data\": {\"outcomeType\": 1, \"valueTowardsCompletion\": 0.25, \"interactionType\": 1, \"questionType\": 1, \"questionId\": \"2_StrPoints\", \"learnToolsVersion\": \"0.3.4\", \"failureMessage\": \"\", \"exceptionClass\": \"\", \"trace\": \"\"}}, \"*\")"
      ],
      "text/plain": [
       "<IPython.core.display.Javascript object>"
      ]
     },
     "metadata": {},
     "output_type": "display_data"
    },
    {
     "data": {
      "text/markdown": [
       "<span style=\"color:#33cc33\">Correct</span>"
      ],
      "text/plain": [
       "Correct"
      ]
     },
     "metadata": {},
     "output_type": "display_data"
    }
   ],
   "source": [
    "point_strings = reviews.points.astype(\"str\")\n",
    "\n",
    "# Check your answer\n",
    "q2.check()"
   ]
  },
  {
   "cell_type": "code",
   "execution_count": 5,
   "id": "614bfdb9",
   "metadata": {
    "execution": {
     "iopub.execute_input": "2022-10-02T12:35:29.418716Z",
     "iopub.status.busy": "2022-10-02T12:35:29.418330Z",
     "iopub.status.idle": "2022-10-02T12:35:29.422945Z",
     "shell.execute_reply": "2022-10-02T12:35:29.421750Z"
    },
    "papermill": {
     "duration": 0.012844,
     "end_time": "2022-10-02T12:35:29.425003",
     "exception": false,
     "start_time": "2022-10-02T12:35:29.412159",
     "status": "completed"
    },
    "tags": []
   },
   "outputs": [],
   "source": [
    "#q2.hint()\n",
    "#q2.solution()"
   ]
  },
  {
   "cell_type": "markdown",
   "id": "139a7897",
   "metadata": {
    "papermill": {
     "duration": 0.004573,
     "end_time": "2022-10-02T12:35:29.434874",
     "exception": false,
     "start_time": "2022-10-02T12:35:29.430301",
     "status": "completed"
    },
    "tags": []
   },
   "source": [
    "## 3.\n",
    "Sometimes the price column is null. How many reviews in the dataset are missing a price?"
   ]
  },
  {
   "cell_type": "code",
   "execution_count": 6,
   "id": "da906302",
   "metadata": {
    "execution": {
     "iopub.execute_input": "2022-10-02T12:35:29.446541Z",
     "iopub.status.busy": "2022-10-02T12:35:29.445832Z",
     "iopub.status.idle": "2022-10-02T12:35:29.454590Z",
     "shell.execute_reply": "2022-10-02T12:35:29.453561Z"
    },
    "papermill": {
     "duration": 0.017015,
     "end_time": "2022-10-02T12:35:29.456683",
     "exception": false,
     "start_time": "2022-10-02T12:35:29.439668",
     "status": "completed"
    },
    "tags": []
   },
   "outputs": [
    {
     "data": {
      "application/javascript": [
       "parent.postMessage({\"jupyterEvent\": \"custom.exercise_interaction\", \"data\": {\"outcomeType\": 1, \"valueTowardsCompletion\": 0.25, \"interactionType\": 1, \"questionType\": 1, \"questionId\": \"3_CountMissingPrices\", \"learnToolsVersion\": \"0.3.4\", \"failureMessage\": \"\", \"exceptionClass\": \"\", \"trace\": \"\"}}, \"*\")"
      ],
      "text/plain": [
       "<IPython.core.display.Javascript object>"
      ]
     },
     "metadata": {},
     "output_type": "display_data"
    },
    {
     "data": {
      "text/markdown": [
       "<span style=\"color:#33cc33\">Correct</span>"
      ],
      "text/plain": [
       "Correct"
      ]
     },
     "metadata": {},
     "output_type": "display_data"
    }
   ],
   "source": [
    "n_missing_prices = reviews.price.isnull().sum()\n",
    "\n",
    "# Check your answer\n",
    "q3.check()"
   ]
  },
  {
   "cell_type": "code",
   "execution_count": 7,
   "id": "f1b0958c",
   "metadata": {
    "execution": {
     "iopub.execute_input": "2022-10-02T12:35:29.468909Z",
     "iopub.status.busy": "2022-10-02T12:35:29.468469Z",
     "iopub.status.idle": "2022-10-02T12:35:29.474036Z",
     "shell.execute_reply": "2022-10-02T12:35:29.472880Z"
    },
    "papermill": {
     "duration": 0.014384,
     "end_time": "2022-10-02T12:35:29.476251",
     "exception": false,
     "start_time": "2022-10-02T12:35:29.461867",
     "status": "completed"
    },
    "tags": []
   },
   "outputs": [],
   "source": [
    "#q3.hint()\n",
    "#q3.solution()"
   ]
  },
  {
   "cell_type": "markdown",
   "id": "22ede7a1",
   "metadata": {
    "papermill": {
     "duration": 0.004736,
     "end_time": "2022-10-02T12:35:29.486234",
     "exception": false,
     "start_time": "2022-10-02T12:35:29.481498",
     "status": "completed"
    },
    "tags": []
   },
   "source": [
    "## 4.\n",
    "What are the most common wine-producing regions? Create a Series counting the number of times each value occurs in the `region_1` field. This field is often missing data, so replace missing values with `Unknown`. Sort in descending order.  Your output should look something like this:\n",
    "\n",
    "```\n",
    "Unknown                    21247\n",
    "Napa Valley                 4480\n",
    "                           ...  \n",
    "Bardolino Superiore            1\n",
    "Primitivo del Tarantino        1\n",
    "Name: region_1, Length: 1230, dtype: int64\n",
    "```"
   ]
  },
  {
   "cell_type": "code",
   "execution_count": 8,
   "id": "6cf51a41",
   "metadata": {
    "execution": {
     "iopub.execute_input": "2022-10-02T12:35:29.499314Z",
     "iopub.status.busy": "2022-10-02T12:35:29.498927Z",
     "iopub.status.idle": "2022-10-02T12:35:29.541100Z",
     "shell.execute_reply": "2022-10-02T12:35:29.540097Z"
    },
    "papermill": {
     "duration": 0.05196,
     "end_time": "2022-10-02T12:35:29.543374",
     "exception": false,
     "start_time": "2022-10-02T12:35:29.491414",
     "status": "completed"
    },
    "tags": []
   },
   "outputs": [
    {
     "data": {
      "application/javascript": [
       "parent.postMessage({\"jupyterEvent\": \"custom.exercise_interaction\", \"data\": {\"outcomeType\": 1, \"valueTowardsCompletion\": 0.25, \"interactionType\": 1, \"questionType\": 2, \"questionId\": \"4_ReviewsPerRegion\", \"learnToolsVersion\": \"0.3.4\", \"failureMessage\": \"\", \"exceptionClass\": \"\", \"trace\": \"\"}}, \"*\")"
      ],
      "text/plain": [
       "<IPython.core.display.Javascript object>"
      ]
     },
     "metadata": {},
     "output_type": "display_data"
    },
    {
     "data": {
      "text/markdown": [
       "<span style=\"color:#33cc33\">Correct</span>"
      ],
      "text/plain": [
       "Correct"
      ]
     },
     "metadata": {},
     "output_type": "display_data"
    }
   ],
   "source": [
    "reviews_per_region = reviews.region_1.fillna('Unknown').value_counts().sort_values(ascending=False)\n",
    "\n",
    "# Check your answer\n",
    "q4.check()"
   ]
  },
  {
   "cell_type": "code",
   "execution_count": 9,
   "id": "c37d0b08",
   "metadata": {
    "execution": {
     "iopub.execute_input": "2022-10-02T12:35:29.556329Z",
     "iopub.status.busy": "2022-10-02T12:35:29.555937Z",
     "iopub.status.idle": "2022-10-02T12:35:29.560023Z",
     "shell.execute_reply": "2022-10-02T12:35:29.559043Z"
    },
    "papermill": {
     "duration": 0.013397,
     "end_time": "2022-10-02T12:35:29.562302",
     "exception": false,
     "start_time": "2022-10-02T12:35:29.548905",
     "status": "completed"
    },
    "tags": []
   },
   "outputs": [],
   "source": [
    "#q4.hint()\n",
    "#q4.solution()"
   ]
  },
  {
   "cell_type": "markdown",
   "id": "961ab8c4",
   "metadata": {
    "papermill": {
     "duration": 0.004928,
     "end_time": "2022-10-02T12:35:29.572808",
     "exception": false,
     "start_time": "2022-10-02T12:35:29.567880",
     "status": "completed"
    },
    "tags": []
   },
   "source": [
    "# Keep going\n",
    "\n",
    "Move on to **[renaming and combining](https://www.kaggle.com/residentmario/renaming-and-combining)**."
   ]
  },
  {
   "cell_type": "markdown",
   "id": "367f0682",
   "metadata": {
    "papermill": {
     "duration": 0.004909,
     "end_time": "2022-10-02T12:35:29.582964",
     "exception": false,
     "start_time": "2022-10-02T12:35:29.578055",
     "status": "completed"
    },
    "tags": []
   },
   "source": [
    "---\n",
    "\n",
    "\n",
    "\n",
    "\n",
    "*Have questions or comments? Visit the [course discussion forum](https://www.kaggle.com/learn/pandas/discussion) to chat with other learners.*"
   ]
  }
 ],
 "metadata": {
  "kernelspec": {
   "display_name": "Python 3",
   "language": "python",
   "name": "python3"
  },
  "language_info": {
   "codemirror_mode": {
    "name": "ipython",
    "version": 3
   },
   "file_extension": ".py",
   "mimetype": "text/x-python",
   "name": "python",
   "nbconvert_exporter": "python",
   "pygments_lexer": "ipython3",
   "version": "3.7.12"
  },
  "papermill": {
   "default_parameters": {},
   "duration": 13.329331,
   "end_time": "2022-10-02T12:35:30.309338",
   "environment_variables": {},
   "exception": null,
   "input_path": "__notebook__.ipynb",
   "output_path": "__notebook__.ipynb",
   "parameters": {},
   "start_time": "2022-10-02T12:35:16.980007",
   "version": "2.3.4"
  }
 },
 "nbformat": 4,
 "nbformat_minor": 5
}
